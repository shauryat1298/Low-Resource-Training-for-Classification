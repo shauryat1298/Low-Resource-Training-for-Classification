{
 "cells": [
  {
   "cell_type": "code",
   "execution_count": 32,
   "metadata": {},
   "outputs": [],
   "source": [
    "import warnings\n",
    "warnings.filterwarnings('ignore')\n",
    "\n",
    "import numpy as np\n",
    "import pandas as pd\n",
    "import matplotlib.pyplot as plt\n",
    "import seaborn as sns\n",
    "\n",
    "import torch\n",
    "import torch.nn as nn\n",
    "import torch.nn.functional as F\n",
    "from torchtext.vocab import vocab\n",
    "from torchinfo import summary\n",
    "from torch.utils.data import DataLoader\n",
    "\n",
    "from datasets import load_dataset, Dataset, DatasetDict\n",
    "\n",
    "from transformers import DataCollatorForTokenClassification\n",
    "import random\n",
    "\n",
    "from nltk.corpus import brown\n",
    "\n",
    "from pathlib import Path\n",
    "import os\n",
    "import sys\n",
    "from itertools import chain\n",
    "\n",
    "from collections import Counter"
   ]
  },
  {
   "cell_type": "markdown",
   "metadata": {},
   "source": [
    "### Define Paths"
   ]
  },
  {
   "cell_type": "code",
   "execution_count": 33,
   "metadata": {},
   "outputs": [],
   "source": [
    "base_path = Path(\"C:/Users/shaur/Desktop/Research/low_resource_training/pos_tagging\")\n",
    "artifacts_path = os.path.join(base_path, \"artifacts\")\n",
    "word2vec_model_path = os.path.join(artifacts_path, \"word2vec_model/GoogleNews-vectors-negative300.bin\")"
   ]
  },
  {
   "cell_type": "markdown",
   "metadata": {},
   "source": [
    "### Load Data"
   ]
  },
  {
   "cell_type": "code",
   "execution_count": 34,
   "metadata": {},
   "outputs": [],
   "source": [
    "brown_corpus = brown.tagged_sents(tagset='universal')\n",
    "tagged_sentences = brown_corpus"
   ]
  },
  {
   "cell_type": "code",
   "execution_count": 35,
   "metadata": {},
   "outputs": [],
   "source": [
    "X = [] # store input sequence\n",
    "Y = [] # store output sequence\n",
    "\n",
    "for sentence in tagged_sentences:\n",
    "    X_sentence = []\n",
    "    Y_sentence = []\n",
    "    for entity in sentence:         \n",
    "        X_sentence.append(entity[0].lower())  # entity[0] contains the word\n",
    "        Y_sentence.append(entity[1])  # entity[1] contains corresponding tag\n",
    "        \n",
    "    X.append(X_sentence)\n",
    "    Y.append(Y_sentence)"
   ]
  },
  {
   "cell_type": "code",
   "execution_count": 36,
   "metadata": {},
   "outputs": [
    {
     "name": "stdout",
     "output_type": "stream",
     "text": [
      "Total number of tagged sentences: 57340\n",
      "Vocabulary size: 49815\n",
      "Total number of tags: 12\n"
     ]
    }
   ],
   "source": [
    "num_words = len(set([word.lower() for sentence in X for word in sentence]))\n",
    "num_tags   = len(set([word.lower() for sentence in Y for word in sentence]))\n",
    "\n",
    "print(\"Total number of tagged sentences: {}\".format(len(X)))\n",
    "print(\"Vocabulary size: {}\".format(num_words))\n",
    "print(\"Total number of tags: {}\".format(num_tags))"
   ]
  },
  {
   "cell_type": "code",
   "execution_count": 37,
   "metadata": {},
   "outputs": [
    {
     "name": "stdout",
     "output_type": "stream",
     "text": [
      "sample X:  ['the', 'fulton', 'county', 'grand', 'jury', 'said', 'friday', 'an', 'investigation', 'of', \"atlanta's\", 'recent', 'primary', 'election', 'produced', '``', 'no', 'evidence', \"''\", 'that', 'any', 'irregularities', 'took', 'place', '.'] \n",
      "\n",
      "sample Y:  ['DET', 'NOUN', 'NOUN', 'ADJ', 'NOUN', 'VERB', 'NOUN', 'DET', 'NOUN', 'ADP', 'NOUN', 'ADJ', 'NOUN', 'NOUN', 'VERB', '.', 'DET', 'NOUN', '.', 'ADP', 'DET', 'NOUN', 'VERB', 'NOUN', '.'] \n",
      "\n"
     ]
    }
   ],
   "source": [
    "print('sample X: ', X[0], '\\n')\n",
    "print('sample Y: ', Y[0], '\\n')"
   ]
  },
  {
   "cell_type": "code",
   "execution_count": 38,
   "metadata": {},
   "outputs": [
    {
     "name": "stdout",
     "output_type": "stream",
     "text": [
      "Length of first input sequence  : 25\n",
      "Length of first output sequence : 25\n"
     ]
    }
   ],
   "source": [
    "print(\"Length of first input sequence  : {}\".format(len(X[0])))\n",
    "print(\"Length of first output sequence : {}\".format(len(Y[0])))"
   ]
  },
  {
   "cell_type": "markdown",
   "metadata": {},
   "source": [
    "### EDA"
   ]
  },
  {
   "cell_type": "code",
   "execution_count": 39,
   "metadata": {},
   "outputs": [],
   "source": [
    "brown_df = Dataset.from_dict({\n",
    "    'tokens': X,\n",
    "    'pos_tags': Y\n",
    "})"
   ]
  },
  {
   "cell_type": "code",
   "execution_count": 40,
   "metadata": {},
   "outputs": [
    {
     "data": {
      "text/html": [
       "<div>\n",
       "<style scoped>\n",
       "    .dataframe tbody tr th:only-of-type {\n",
       "        vertical-align: middle;\n",
       "    }\n",
       "\n",
       "    .dataframe tbody tr th {\n",
       "        vertical-align: top;\n",
       "    }\n",
       "\n",
       "    .dataframe thead th {\n",
       "        text-align: right;\n",
       "    }\n",
       "</style>\n",
       "<table border=\"1\" class=\"dataframe\">\n",
       "  <thead>\n",
       "    <tr style=\"text-align: right;\">\n",
       "      <th></th>\n",
       "      <th>tokens</th>\n",
       "      <th>pos_tags</th>\n",
       "    </tr>\n",
       "  </thead>\n",
       "  <tbody>\n",
       "    <tr>\n",
       "      <th>0</th>\n",
       "      <td>[the, fulton, county, grand, jury, said, frida...</td>\n",
       "      <td>[DET, NOUN, NOUN, ADJ, NOUN, VERB, NOUN, DET, ...</td>\n",
       "    </tr>\n",
       "    <tr>\n",
       "      <th>1</th>\n",
       "      <td>[the, jury, further, said, in, term-end, prese...</td>\n",
       "      <td>[DET, NOUN, ADV, VERB, ADP, NOUN, NOUN, ADP, D...</td>\n",
       "    </tr>\n",
       "    <tr>\n",
       "      <th>2</th>\n",
       "      <td>[the, september-october, term, jury, had, been...</td>\n",
       "      <td>[DET, NOUN, NOUN, NOUN, VERB, VERB, VERB, ADP,...</td>\n",
       "    </tr>\n",
       "    <tr>\n",
       "      <th>3</th>\n",
       "      <td>[``, only, a, relative, handful, of, such, rep...</td>\n",
       "      <td>[., ADV, DET, ADJ, NOUN, ADP, ADJ, NOUN, VERB,...</td>\n",
       "    </tr>\n",
       "    <tr>\n",
       "      <th>4</th>\n",
       "      <td>[the, jury, said, it, did, find, that, many, o...</td>\n",
       "      <td>[DET, NOUN, VERB, PRON, VERB, VERB, ADP, ADJ, ...</td>\n",
       "    </tr>\n",
       "  </tbody>\n",
       "</table>\n",
       "</div>"
      ],
      "text/plain": [
       "                                              tokens  \\\n",
       "0  [the, fulton, county, grand, jury, said, frida...   \n",
       "1  [the, jury, further, said, in, term-end, prese...   \n",
       "2  [the, september-october, term, jury, had, been...   \n",
       "3  [``, only, a, relative, handful, of, such, rep...   \n",
       "4  [the, jury, said, it, did, find, that, many, o...   \n",
       "\n",
       "                                            pos_tags  \n",
       "0  [DET, NOUN, NOUN, ADJ, NOUN, VERB, NOUN, DET, ...  \n",
       "1  [DET, NOUN, ADV, VERB, ADP, NOUN, NOUN, ADP, D...  \n",
       "2  [DET, NOUN, NOUN, NOUN, VERB, VERB, VERB, ADP,...  \n",
       "3  [., ADV, DET, ADJ, NOUN, ADP, ADJ, NOUN, VERB,...  \n",
       "4  [DET, NOUN, VERB, PRON, VERB, VERB, ADP, ADJ, ...  "
      ]
     },
     "execution_count": 40,
     "metadata": {},
     "output_type": "execute_result"
    }
   ],
   "source": [
    "brown_df.set_format(type='pandas')\n",
    "df = brown_df[:]\n",
    "df.head()"
   ]
  },
  {
   "cell_type": "code",
   "execution_count": 41,
   "metadata": {},
   "outputs": [
    {
     "data": {
      "image/png": "[encoded data removed]",
      "text/plain": [
       "<Figure size 640x480 with 1 Axes>"
      ]
     },
     "metadata": {},
     "output_type": "display_data"
    }
   ],
   "source": [
    "## Visualize distribution of class labels\n",
    "\n",
    "all_tags = [tag for sublist in df['pos_tags'] for tag in sublist]\n",
    "\n",
    "# Convert to a pandas Series and count occurrences of each tag\n",
    "tag_counts = pd.Series(all_tags).value_counts(ascending=True)\n",
    "\n",
    "# Plot the counts\n",
    "tag_counts.plot.barh()\n",
    "plt.xlabel('Count')\n",
    "plt.ylabel('NER Tag')\n",
    "plt.title('NER Tag Counts')\n",
    "plt.show()"
   ]
  },
  {
   "cell_type": "code",
   "execution_count": 42,
   "metadata": {},
   "outputs": [
    {
     "data": {
      "text/plain": [
       "DatasetDict({\n",
       "    train: Dataset({\n",
       "        features: ['tokens', 'pos_tags'],\n",
       "        num_rows: 1000\n",
       "    })\n",
       "    val: Dataset({\n",
       "        features: ['tokens', 'pos_tags'],\n",
       "        num_rows: 100\n",
       "    })\n",
       "})"
      ]
     },
     "execution_count": 42,
     "metadata": {},
     "output_type": "execute_result"
    }
   ],
   "source": [
    "brown_df.reset_format()\n",
    "brown_df = brown_df.train_test_split(test_size=0.2)\n",
    "train_split_small = brown_df['train'].shuffle(seed=42).select(range(1000))\n",
    "val_split_small = brown_df['test'].shuffle(seed=42).select(range(100))\n",
    "train_val_subset = DatasetDict({'train': train_split_small, 'val': val_split_small})\n",
    "train_val_subset"
   ]
  },
  {
   "cell_type": "markdown",
   "metadata": {},
   "source": [
    "### Map targets to integers"
   ]
  },
  {
   "cell_type": "code",
   "execution_count": 43,
   "metadata": {},
   "outputs": [
    {
     "name": "stdout",
     "output_type": "stream",
     "text": [
      "['CONJ', 'DET', 'PRT', 'VERB', 'ADV', 'X', 'ADJ', 'NUM', 'PRON', 'NOUN', '.', 'ADP']\n"
     ]
    }
   ],
   "source": [
    "class_names = list(set(chain(*brown_df['train']['pos_tags'])))\n",
    "print(class_names)"
   ]
  },
  {
   "cell_type": "code",
   "execution_count": 44,
   "metadata": {},
   "outputs": [],
   "source": [
    "id2label = {}\n",
    "for id_, label_ in enumerate(class_names):\n",
    "    id2label[str(id_)] = label_\n",
    "\n",
    "label2id = {}\n",
    "for id_, label_ in enumerate(class_names):\n",
    "    label2id[label_] = id_"
   ]
  },
  {
   "cell_type": "code",
   "execution_count": 45,
   "metadata": {},
   "outputs": [
    {
     "name": "stderr",
     "output_type": "stream",
     "text": [
      "Map: 100%|██████████| 1000/1000 [00:00<00:00, 16033.64 examples/s]\n",
      "Map: 100%|██████████| 100/100 [00:00<00:00, 14097.08 examples/s]\n"
     ]
    }
   ],
   "source": [
    "def convert_pos_tags_to_ids(example):\n",
    "    example['pos_tags'] = [label2id[tag] for tag in example['pos_tags']]\n",
    "    return example\n",
    "\n",
    "train_val_subset = train_val_subset.map(convert_pos_tags_to_ids)"
   ]
  },
  {
   "cell_type": "markdown",
   "metadata": {},
   "source": [
    "### Custom Dataset Class"
   ]
  },
  {
   "cell_type": "code",
   "execution_count": 15,
   "metadata": {},
   "outputs": [],
   "source": [
    "class CustomDataset(torch.utils.data.Dataset):\n",
    "\n",
    "    def __init__(self, X, y):\n",
    "        self.X = X\n",
    "        self.y = y\n",
    "\n",
    "    def __len__(self):\n",
    "        return len(self.X)\n",
    "    \n",
    "    def __getitem__(self, idx):\n",
    "        texts = self.X[idx]\n",
    "        labels = self.y[idx]\n",
    "        sample = (labels, texts)\n",
    "        return sample\n",
    "    \n",
    "train_dataset = CustomDataset(train_val_subset['train']['tokens'], train_val_subset['train']['pos_tags'])\n",
    "val_dataset = CustomDataset(train_val_subset['val']['tokens'], train_val_subset['val']['pos_tags'])"
   ]
  },
  {
   "cell_type": "code",
   "execution_count": 16,
   "metadata": {},
   "outputs": [
    {
     "data": {
      "text/plain": [
       "([2, 9, 3, 11, 9, 9, 10],\n",
       " ['my', 'uncle', 'looked', 'at', 'mr.', 'gorboduc', '.'])"
      ]
     },
     "execution_count": 16,
     "metadata": {},
     "output_type": "execute_result"
    }
   ],
   "source": [
    "train_dataset.__getitem__(2)"
   ]
  },
  {
   "cell_type": "markdown",
   "metadata": {},
   "source": [
    "### Create Vocab"
   ]
  },
  {
   "cell_type": "code",
   "execution_count": 17,
   "metadata": {},
   "outputs": [
    {
     "data": {
      "text/plain": [
       "1718"
      ]
     },
     "execution_count": 17,
     "metadata": {},
     "output_type": "execute_result"
    }
   ],
   "source": [
    "def get_vocab(dataset, min_freq=1):\n",
    "\n",
    "    counter = Counter()\n",
    "    for (_, word) in dataset:\n",
    "        counter.update(word)\n",
    "    \n",
    "    my_vocab = vocab(counter, min_freq=min_freq)\n",
    "    my_vocab.insert_token('<unk>', 0)\n",
    "    my_vocab.set_default_index(0)\n",
    "\n",
    "    return my_vocab\n",
    "\n",
    "brown_vocab = get_vocab(train_dataset, min_freq=2)\n",
    "len(brown_vocab)"
   ]
  },
  {
   "cell_type": "markdown",
   "metadata": {},
   "source": [
    "### Collate Function for Data Loaders"
   ]
  },
  {
   "cell_type": "code",
   "execution_count": 18,
   "metadata": {},
   "outputs": [],
   "source": [
    "def tokenizer(x, vocab):\n",
    "    return [vocab[token] for token in x]"
   ]
  },
  {
   "cell_type": "code",
   "execution_count": 19,
   "metadata": {},
   "outputs": [],
   "source": [
    "def collate_batch_emb(batch):\n",
    "    \"\"\"\n",
    "    Collates a batch of samples into tensors of labels and texts.\n",
    "\n",
    "    Parameters:\n",
    "        batch (list): A list of tuples, each containing a label and a text.\n",
    "\n",
    "    Returns:\n",
    "        tuple: A tuple containing two tensors, one for labels and one for texts.\n",
    "    \"\"\"\n",
    "    # Unpack the batch into separate lists for labels and texts\n",
    "    labels, texts = zip(*batch)\n",
    "    \n",
    "    # Convert the list of labels into a tensor of dtype int32\n",
    "    labels = torch.cat([torch.tensor(label, dtype=torch.int64) for label in labels])\n",
    "\n",
    "    # Convert the list of texts into a tensor; each text is transformed into a list of vocabulary indices using tokenizer\n",
    "    indices = torch.cat([torch.tensor(tokenizer(text_list, brown_vocab), dtype=torch.int64) for text_list in texts])\n",
    "\n",
    "    return labels, indices"
   ]
  },
  {
   "cell_type": "code",
   "execution_count": 20,
   "metadata": {},
   "outputs": [],
   "source": [
    "torch.manual_seed(0)\n",
    "batch_size = 2\n",
    "train_loader = DataLoader(dataset=train_dataset,\n",
    "                          batch_size=batch_size,\n",
    "                          shuffle=True,\n",
    "                          collate_fn=collate_batch_emb\n",
    "                )"
   ]
  },
  {
   "cell_type": "code",
   "execution_count": 21,
   "metadata": {},
   "outputs": [
    {
     "name": "stdout",
     "output_type": "stream",
     "text": [
      "tensor([ 7,  3,  3,  7,  4,  4, 11,  6, 10,  9,  3,  3,  7,  4, 10]) tensor([ 78, 233, 185, 104,  58, 612,  58, 539, 184, 421,   0, 192,   2, 829,\n",
      "          4])\n"
     ]
    },
    {
     "name": "stderr",
     "output_type": "stream",
     "text": [
      "\n",
      "A module that was compiled using NumPy 1.x cannot be run in\n",
      "NumPy 2.0.2 as it may crash. To support both 1.x and 2.x\n",
      "versions of NumPy, modules must be compiled with NumPy 2.0.\n",
      "Some module may need to rebuild instead e.g. with 'pybind11>=2.12'.\n",
      "\n",
      "If you are a user of the module, the easiest solution will be to\n",
      "downgrade to 'numpy<2' or try to upgrade the affected module.\n",
      "We expect that some modules will need time to support NumPy 2.\n",
      "\n",
      "Traceback (most recent call last):  File \"c:\\Users\\shaur\\anaconda3\\envs\\research_env\\lib\\runpy.py\", line 197, in _run_module_as_main\n",
      "    return _run_code(code, main_globals, None,\n",
      "  File \"c:\\Users\\shaur\\anaconda3\\envs\\research_env\\lib\\runpy.py\", line 87, in _run_code\n",
      "    exec(code, run_globals)\n",
      "  File \"c:\\Users\\shaur\\anaconda3\\envs\\research_env\\lib\\site-packages\\ipykernel_launcher.py\", line 18, in <module>\n",
      "    app.launch_new_instance()\n",
      "  File \"c:\\Users\\shaur\\anaconda3\\envs\\research_env\\lib\\site-packages\\traitlets\\config\\application.py\", line 1075, in launch_instance\n",
      "    app.start()\n",
      "  File \"c:\\Users\\shaur\\anaconda3\\envs\\research_env\\lib\\site-packages\\ipykernel\\kernelapp.py\", line 739, in start\n",
      "    self.io_loop.start()\n",
      "  File \"c:\\Users\\shaur\\anaconda3\\envs\\research_env\\lib\\site-packages\\tornado\\platform\\asyncio.py\", line 215, in start\n",
      "    self.asyncio_loop.run_forever()\n",
      "  File \"c:\\Users\\shaur\\anaconda3\\envs\\research_env\\lib\\asyncio\\base_events.py\", line 596, in run_forever\n",
      "    self._run_once()\n",
      "  File \"c:\\Users\\shaur\\anaconda3\\envs\\research_env\\lib\\asyncio\\base_events.py\", line 1890, in _run_once\n",
      "    handle._run()\n",
      "  File \"c:\\Users\\shaur\\anaconda3\\envs\\research_env\\lib\\asyncio\\events.py\", line 80, in _run\n",
      "    self._context.run(self._callback, *self._args)\n",
      "  File \"c:\\Users\\shaur\\anaconda3\\envs\\research_env\\lib\\site-packages\\ipykernel\\kernelbase.py\", line 545, in dispatch_queue\n",
      "    await self.process_one()\n",
      "  File \"c:\\Users\\shaur\\anaconda3\\envs\\research_env\\lib\\site-packages\\ipykernel\\kernelbase.py\", line 534, in process_one\n",
      "    await dispatch(*args)\n",
      "  File \"c:\\Users\\shaur\\anaconda3\\envs\\research_env\\lib\\site-packages\\ipykernel\\kernelbase.py\", line 437, in dispatch_shell\n",
      "    await result\n",
      "  File \"c:\\Users\\shaur\\anaconda3\\envs\\research_env\\lib\\site-packages\\ipykernel\\ipkernel.py\", line 362, in execute_request\n",
      "    await super().execute_request(stream, ident, parent)\n",
      "  File \"c:\\Users\\shaur\\anaconda3\\envs\\research_env\\lib\\site-packages\\ipykernel\\kernelbase.py\", line 778, in execute_request\n",
      "    reply_content = await reply_content\n",
      "  File \"c:\\Users\\shaur\\anaconda3\\envs\\research_env\\lib\\site-packages\\ipykernel\\ipkernel.py\", line 449, in do_execute\n",
      "    res = shell.run_cell(\n",
      "  File \"c:\\Users\\shaur\\anaconda3\\envs\\research_env\\lib\\site-packages\\ipykernel\\zmqshell.py\", line 549, in run_cell\n",
      "    return super().run_cell(*args, **kwargs)\n",
      "  File \"c:\\Users\\shaur\\anaconda3\\envs\\research_env\\lib\\site-packages\\IPython\\core\\interactiveshell.py\", line 3006, in run_cell\n",
      "    result = self._run_cell(\n",
      "  File \"c:\\Users\\shaur\\anaconda3\\envs\\research_env\\lib\\site-packages\\IPython\\core\\interactiveshell.py\", line 3061, in _run_cell\n",
      "    result = runner(coro)\n",
      "  File \"c:\\Users\\shaur\\anaconda3\\envs\\research_env\\lib\\site-packages\\IPython\\core\\async_helpers.py\", line 129, in _pseudo_sync_runner\n",
      "    coro.send(None)\n",
      "  File \"c:\\Users\\shaur\\anaconda3\\envs\\research_env\\lib\\site-packages\\IPython\\core\\interactiveshell.py\", line 3266, in run_cell_async\n",
      "    has_raised = await self.run_ast_nodes(code_ast.body, cell_name,\n",
      "  File \"c:\\Users\\shaur\\anaconda3\\envs\\research_env\\lib\\site-packages\\IPython\\core\\interactiveshell.py\", line 3445, in run_ast_nodes\n",
      "    if await self.run_code(code, result, async_=asy):\n",
      "  File \"c:\\Users\\shaur\\anaconda3\\envs\\research_env\\lib\\site-packages\\IPython\\core\\interactiveshell.py\", line 3505, in run_code\n",
      "    exec(code_obj, self.user_global_ns, self.user_ns)\n",
      "  File \"C:\\Users\\shaur\\AppData\\Local\\Temp\\ipykernel_33892\\2647315296.py\", line 3, in <module>\n",
      "    for label, text in train_loader:\n",
      "  File \"c:\\Users\\shaur\\anaconda3\\envs\\research_env\\lib\\site-packages\\torch\\utils\\data\\dataloader.py\", line 631, in __next__\n",
      "    data = self._next_data()\n",
      "  File \"c:\\Users\\shaur\\anaconda3\\envs\\research_env\\lib\\site-packages\\torch\\utils\\data\\dataloader.py\", line 675, in _next_data\n",
      "    data = self._dataset_fetcher.fetch(index)  # may raise StopIteration\n",
      "  File \"c:\\Users\\shaur\\anaconda3\\envs\\research_env\\lib\\site-packages\\torch\\utils\\data\\_utils\\fetch.py\", line 54, in fetch\n",
      "    return self.collate_fn(data)\n",
      "  File \"C:\\Users\\shaur\\AppData\\Local\\Temp\\ipykernel_33892\\1883401638.py\", line 15, in collate_batch_emb\n",
      "    labels = torch.cat([torch.tensor(label, dtype=torch.int64) for label in labels])\n",
      "  File \"C:\\Users\\shaur\\AppData\\Local\\Temp\\ipykernel_33892\\1883401638.py\", line 15, in <listcomp>\n",
      "    labels = torch.cat([torch.tensor(label, dtype=torch.int64) for label in labels])\n"
     ]
    }
   ],
   "source": [
    "# iterate over the dataloader\n",
    "torch.manual_seed(0)\n",
    "for label, text in train_loader:\n",
    "    print(label, text)\n",
    "    break"
   ]
  },
  {
   "cell_type": "markdown",
   "metadata": {},
   "source": [
    "### Simple MLP"
   ]
  },
  {
   "cell_type": "code",
   "execution_count": 22,
   "metadata": {},
   "outputs": [],
   "source": [
    "class SimpleMLP(nn.Module):\n",
    "    def __init__(self, vocab_size, embedding_dim, hidden_dim1, hidden_dim2, drop_prob1, drop_prob2, num_outputs):\n",
    "        super().__init__()\n",
    "\n",
    "        # EmbeddingBag_layer->Linear->ReLU->BatchNorm->Dropout->Linear->ReLU->BatchNorm->Dropout->Linear\n",
    "\n",
    "        # Embedding layer\n",
    "        self.embedding = nn.Embedding(vocab_size, embedding_dim)\n",
    "\n",
    "        # First Linear layer\n",
    "        self.linear1 = nn.Linear(embedding_dim, hidden_dim1)\n",
    "        # Batch normalization for first linear layer\n",
    "        self.batchnorm1 = nn.BatchNorm1d(num_features=hidden_dim1)\n",
    "        # Dropout for first linear layer\n",
    "        self.dropout1 = nn.Dropout(p=drop_prob1)\n",
    "\n",
    "        # Second Linear layer\n",
    "        self.linear2 = nn.Linear(hidden_dim1, hidden_dim2)\n",
    "        # Batch normalization for second linear layer\n",
    "        self.batchnorm2 = nn.BatchNorm1d(num_features=hidden_dim2)\n",
    "        # Dropout for second linear layer\n",
    "        self.dropout2 = nn.Dropout(p=drop_prob2)\n",
    "\n",
    "        # Final Linear layer\n",
    "        self.linear3 = nn.Linear(hidden_dim2, num_outputs)\n",
    "\n",
    "    def forward(self, indices):\n",
    "\n",
    "        # Pass data through the embedding layer\n",
    "        x = self.embedding(indices)\n",
    "\n",
    "        # First linear layer followed by ReLU, BatchNorm, and Dropout\n",
    "        x = self.linear1(x)\n",
    "        x = nn.ReLU()(x)\n",
    "        x = self.batchnorm1(x)\n",
    "        x = self.dropout1(x)\n",
    "\n",
    "        # Second linear layer followed by ReLU, BatchNorm, and Dropout\n",
    "        x = self.linear2(x)\n",
    "        x = nn.ReLU()(x)\n",
    "        x = self.batchnorm2(x)\n",
    "        x = self.dropout2(x)\n",
    "\n",
    "        # Final linear layer\n",
    "        x = self.linear3(x)\n",
    "\n",
    "        return x\n"
   ]
  },
  {
   "cell_type": "code",
   "execution_count": 23,
   "metadata": {},
   "outputs": [
    {
     "data": {
      "text/plain": [
       "==========================================================================================\n",
       "Layer (type:depth-idx)                   Output Shape              Param #\n",
       "==========================================================================================\n",
       "SimpleMLP                                [5, 12]                   --\n",
       "├─Embedding: 1-1                         [5, 200]                  343,600\n",
       "├─Linear: 1-2                            [5, 100]                  20,100\n",
       "├─BatchNorm1d: 1-3                       [5, 100]                  200\n",
       "├─Dropout: 1-4                           [5, 100]                  --\n",
       "├─Linear: 1-5                            [5, 20]                   2,020\n",
       "├─BatchNorm1d: 1-6                       [5, 20]                   40\n",
       "├─Dropout: 1-7                           [5, 20]                   --\n",
       "├─Linear: 1-8                            [5, 12]                   252\n",
       "==========================================================================================\n",
       "Total params: 366,212\n",
       "Trainable params: 366,212\n",
       "Non-trainable params: 0\n",
       "Total mult-adds (M): 1.83\n",
       "==========================================================================================\n",
       "Input size (MB): 0.00\n",
       "Forward/backward pass size (MB): 0.02\n",
       "Params size (MB): 1.46\n",
       "Estimated Total Size (MB): 1.48\n",
       "=========================================================================================="
      ]
     },
     "execution_count": 23,
     "metadata": {},
     "output_type": "execute_result"
    }
   ],
   "source": [
    "# Define the device\n",
    "device = torch.device('cuda:0' if torch.cuda.is_available() else 'cpu')\n",
    "\n",
    "# Define the sequential model\n",
    "# this will invoke the __init__() function of the model\n",
    "model = SimpleMLP(vocab_size=len(brown_vocab) , embedding_dim=200, hidden_dim1=100, hidden_dim2=20, drop_prob1=0.5, drop_prob2=0.5, num_outputs=len(label2id))\n",
    "\n",
    "# Move the model to the device\n",
    "model = model.to(device)\n",
    "\n",
    "# Generate some dummy input data and offsets, and move them to the device\n",
    "data = torch.tensor([1, 2, 4, 5, 4], dtype = torch.int32).to(device)\n",
    "\n",
    "# Generate summary\n",
    "summary(model, input_data=data, device=device, depth =10, verbose = False)\n"
   ]
  },
  {
   "cell_type": "markdown",
   "metadata": {},
   "source": [
    "## Functions to Train and Evaluate Models"
   ]
  },
  {
   "cell_type": "markdown",
   "metadata": {},
   "source": [
    "### Step Function"
   ]
  },
  {
   "cell_type": "code",
   "execution_count": 24,
   "metadata": {},
   "outputs": [],
   "source": [
    "def step(inputs, targets, model, device, loss_function=None, optimizer=None):\n",
    "    \"\"\"\n",
    "    Performs a forward and backward pass for a given batch of inputs and targets.\n",
    "\n",
    "    Parameters:\n",
    "    - inputs (torch.Tensor): The input data for the model.\n",
    "    - targets (torch.Tensor): The true labels for the input data.\n",
    "    - model (torch.nn.Module): The neural network model.\n",
    "    - device (torch.device): The computing device (CPU or GPU).\n",
    "    - loss_function (torch.nn.Module, optional): The loss function to use.\n",
    "    - optimizer (torch.optim.Optimizer, optional): The optimizer to update model parameters.\n",
    "\n",
    "    Returns:\n",
    "    - loss (float): The computed loss value (only if loss_function is not None).\n",
    "    - outputs (torch.Tensor): The predictions from the model.\n",
    "    - correct (int): The number of correctly classified samples in the batch.\n",
    "    \"\"\"\n",
    "    # Move the model and data to the device\n",
    "    model = model.to(device)\n",
    "    inputs = tuple(input_tensor.to(device)\n",
    "                            for input_tensor in inputs)\n",
    "\n",
    "    targets = targets.to(device)\n",
    "\n",
    "    # Step 1: Forward pass to get the model's predictions\n",
    "    outputs = model(inputs)\n",
    "\n",
    "    # Step 2a: Compute the loss using the provided loss function\n",
    "    if loss_function:\n",
    "        loss = loss_function(outputs, targets)\n",
    "\n",
    "    # Step 2b: Calculate the number of correctly classified samples\n",
    "    predicted = torch.argmax(outputs.data, 1)\n",
    "    correct = (predicted == targets).sum().item()\n",
    "\n",
    "    # Step 3 and 4: Perform backward pass and update model parameters if an optimizer is provided\n",
    "    if optimizer:\n",
    "        optimizer.zero_grad()\n",
    "        loss.backward()\n",
    "        optimizer.step()\n",
    "\n",
    "    # Return relevant metrics\n",
    "    if loss_function:\n",
    "        return loss, outputs, correct\n",
    "    else:\n",
    "        return None, outputs, correct\n"
   ]
  },
  {
   "cell_type": "code",
   "execution_count": 25,
   "metadata": {},
   "outputs": [],
   "source": [
    "def train_epoch(train_loader, model, device, loss_function, optimizer):\n",
    "    \"\"\"\n",
    "    Trains the model for one epoch using the provided data loader and updates the model parameters.\n",
    "\n",
    "    Parameters:\n",
    "    - train_loader (torch.utils.data.DataLoader): DataLoader object for the training set.\n",
    "    - model (torch.nn.Module): The neural network model to be trained.\n",
    "    - device (torch.device): The computing device (CPU or GPU).\n",
    "    - loss_function (torch.nn.Module): The loss function to use for training.\n",
    "    - optimizer (torch.optim.Optimizer): The optimizer to update model parameters.\n",
    "\n",
    "    Returns:\n",
    "    - train_loss (float): Average training loss for the epoch.\n",
    "    - train_acc (float): Training accuracy for the epoch.\n",
    "    \"\"\"\n",
    "    # Set the model to training mode\n",
    "    model.train()\n",
    "\n",
    "    # Initialize variables to track running training loss and correct predictions\n",
    "    running_train_loss = 0.0\n",
    "    running_train_correct = 0\n",
    "\n",
    "    # Iterate over all batches in the training data\n",
    "    for inputs, targets in train_loader:\n",
    "        # Perform a forward and backward pass, updating model parameters\n",
    "        loss, _, correct = step(inputs, targets, model, device, loss_function, optimizer)\n",
    "\n",
    "        # Update running loss and correct predictions counter\n",
    "        running_train_loss += loss.item()\n",
    "        running_train_correct += correct\n",
    "\n",
    "    # Compute average loss and accuracy for the entire training set\n",
    "    train_loss = running_train_loss / len(train_loader)\n",
    "    train_acc = running_train_correct / len(train_loader.dataset)\n",
    "\n",
    "    return train_loss, train_acc\n"
   ]
  },
  {
   "cell_type": "code",
   "execution_count": 26,
   "metadata": {},
   "outputs": [],
   "source": [
    "def val_epoch(valid_loader, model, device, loss_function):\n",
    "    \"\"\"\n",
    "    Validates the model for one epoch using the provided data loader.\n",
    "\n",
    "    Parameters:\n",
    "    - valid_loader (torch.utils.data.DataLoader): DataLoader object for the validation set.\n",
    "    - model (torch.nn.Module): The neural network model to be validated.\n",
    "    - device (torch.device): The computing device (CPU or GPU).\n",
    "    - loss_function (torch.nn.Module): The loss function to evaluate the model.\n",
    "\n",
    "    Returns:\n",
    "    - val_loss (float): Average validation loss for the epoch.\n",
    "    - val_acc (float): Validation accuracy for the epoch.\n",
    "    \"\"\"\n",
    "    # Set the model to evaluation mode\n",
    "    model.eval()\n",
    "\n",
    "    # Initialize variables to track running validation loss and correct predictions\n",
    "    running_val_loss = 0.0\n",
    "    running_val_correct = 0\n",
    "\n",
    "    # Disable gradient computation\n",
    "    with torch.no_grad():\n",
    "        # Iterate over all batches in the validation data\n",
    "        for inputs, targets in valid_loader:\n",
    "            # Perform a forward pass to get loss and number of correct predictions\n",
    "            loss, _, correct = step(inputs, targets, model, device, loss_function, optimizer=None)\n",
    "\n",
    "            # Update running loss and correct predictions counter\n",
    "            running_val_loss += loss.item()\n",
    "            running_val_correct += correct\n",
    "\n",
    "    # Compute average loss and accuracy for the entire validation set\n",
    "    val_loss = running_val_loss / len(valid_loader)\n",
    "    val_acc = running_val_correct / len(valid_loader.dataset)\n",
    "\n",
    "    return val_loss, val_acc\n"
   ]
  },
  {
   "cell_type": "code",
   "execution_count": 27,
   "metadata": {},
   "outputs": [],
   "source": [
    "def train(train_loader, valid_loader, model, optimizer, loss_function, epochs, device):\n",
    "    \"\"\"\n",
    "    Trains and validates the model, and returns history of train and validation metrics.\n",
    "\n",
    "    Parameters:\n",
    "    - train_loader (torch.utils.data.DataLoader): DataLoader for the training set.\n",
    "    - valid_loader (torch.utils.data.DataLoader): DataLoader for the validation set.\n",
    "    - model (torch.nn.Module): Neural network model to train.\n",
    "    - optimizer (torch.optim.Optimizer): Optimizer algorithm.\n",
    "    - loss_function (torch.nn.Module): Loss function to evaluate the model.\n",
    "    - epochs (int): Number of epochs to train the model.\n",
    "    - device (torch.device): The computing device (CPU or GPU).\n",
    "\n",
    "    Returns:\n",
    "    - train_loss_history (list): History of training loss for each epoch.\n",
    "    - train_acc_history (list): History of training accuracy for each epoch.\n",
    "    - valid_loss_history (list): History of validation loss for each epoch.\n",
    "    - valid_acc_history (list): History of validation accuracy for each epoch.\n",
    "    \"\"\"\n",
    "\n",
    "    # Initialize lists to store metrics for each epoch\n",
    "    train_loss_history = []\n",
    "    valid_loss_history = []\n",
    "    train_acc_history = []\n",
    "    valid_acc_history = []\n",
    "\n",
    "    # Loop over the number of specified epochs\n",
    "    for epoch in range(epochs):\n",
    "        # Train model on training data and capture metrics\n",
    "        train_loss, train_acc = train_epoch(\n",
    "            train_loader, model, device, loss_function, optimizer)\n",
    "\n",
    "        # Validate model on validation data and capture metrics\n",
    "        valid_loss, valid_acc = val_epoch(\n",
    "            valid_loader, model, device, loss_function)\n",
    "\n",
    "        # Store metrics for this epoch\n",
    "        train_loss_history.append(train_loss)\n",
    "        train_acc_history.append(train_acc)\n",
    "        valid_loss_history.append(valid_loss)\n",
    "        valid_acc_history.append(valid_acc)\n",
    "\n",
    "        # Output epoch-level summary\n",
    "        print(f\"Epoch {epoch+1}/{epochs}\")\n",
    "        print(f\"Train Loss: {train_loss:.4f} | Train Accuracy: {train_acc*100:.2f}%\")\n",
    "        print(f\"Valid Loss: {valid_loss:.4f} | Valid Accuracy: {valid_acc*100:.2f}%\")\n",
    "        print()\n",
    "\n",
    "    return train_loss_history, train_acc_history, valid_loss_history, valid_acc_history\n"
   ]
  },
  {
   "cell_type": "markdown",
   "metadata": {},
   "source": [
    "## Train Model"
   ]
  },
  {
   "cell_type": "code",
   "execution_count": 28,
   "metadata": {},
   "outputs": [],
   "source": [
    "# model Parameters\n",
    "EMBED_DIM=512\n",
    "VOCAB_SIZE=len(brown_vocab)\n",
    "HIDDEN_DIM1=200\n",
    "HIDDEN_DIM2=100\n",
    "DROP_PROB1=0.5\n",
    "DROP_PROB2=0.5\n",
    "NUM_OUTPUTS=len(label2id)\n",
    "\n",
    "# training\n",
    "EPOCHS=5\n",
    "BATCH_SIZE=4\n",
    "LEARNING_RATE=0.001\n",
    "WEIGHT_DECAY=0.1"
   ]
  },
  {
   "cell_type": "code",
   "execution_count": 29,
   "metadata": {},
   "outputs": [],
   "source": [
    "# Fixing the seed value for reproducibility across runs\n",
    "SEED = 2345\n",
    "random.seed(SEED)                     # Set seed for Python's 'random' module\n",
    "np.random.seed(SEED)                  # Set seed for NumPy's random number generation\n",
    "torch.manual_seed(SEED)               # Set seed for PyTorch's CPU operations\n",
    "torch.cuda.manual_seed(SEED)          # Set seed for PyTorch's CUDA (GPU) operations\n",
    "torch.backends.cudnn.deterministic = True  # Ensure deterministic behavior in CuDNN\n",
    "\n",
    "# Define collate function with a fixed vocabulary using the 'partial' function\n",
    "collate_fn = collate_batch_emb\n",
    "\n",
    "# Data Loaders for training, validation, and test sets\n",
    "# These loaders handle batching, shuffling, and data processing using the custom collate function\n",
    "train_loader = torch.utils.data.DataLoader(train_dataset, batch_size = BATCH_SIZE, shuffle=True,\n",
    "                                           collate_fn=collate_fn)\n",
    "valid_loader = torch.utils.data.DataLoader(val_dataset, batch_size=BATCH_SIZE, shuffle=False,\n",
    "                                           collate_fn=collate_fn)\n",
    "\n",
    "# Define the loss function for the model, using cross-entropy loss\n",
    "loss_function = nn.CrossEntropyLoss()\n",
    "\n",
    "# Define the model with specified hyperparameters\n",
    "model_brown = SimpleMLP(vocab_size=VOCAB_SIZE,\n",
    "                       embedding_dim=EMBED_DIM,\n",
    "                       hidden_dim1=HIDDEN_DIM1,\n",
    "                       hidden_dim2=HIDDEN_DIM2,\n",
    "                       drop_prob1=DROP_PROB1,\n",
    "                       drop_prob2=DROP_PROB2,\n",
    "                       num_outputs=NUM_OUTPUTS)\n",
    "\n",
    "# Initialize the optimizer for training, using AdamW optimizer with specified learning rate\n",
    "optimizer = torch.optim.AdamW(model_brown.parameters(), lr=LEARNING_RATE)\n",
    "\n",
    "# Define the device for model training (use CUDA if available, else CPU)\n",
    "device = torch.device('cuda:0' if torch.cuda.is_available() else 'cpu')\n"
   ]
  },
  {
   "cell_type": "code",
   "execution_count": 31,
   "metadata": {},
   "outputs": [
    {
     "name": "stdout",
     "output_type": "stream",
     "text": [
      "Im here\n"
     ]
    },
    {
     "ename": "TypeError",
     "evalue": "embedding(): argument 'indices' (position 2) must be Tensor, not tuple",
     "output_type": "error",
     "traceback": [
      "\u001b[1;31m---------------------------------------------------------------------------\u001b[0m",
      "\u001b[1;31mTypeError\u001b[0m                                 Traceback (most recent call last)",
      "Cell \u001b[1;32mIn[31], line 10\u001b[0m\n\u001b[0;32m      8\u001b[0m \u001b[38;5;28mprint\u001b[39m(\u001b[38;5;124m\"\u001b[39m\u001b[38;5;124mIm here\u001b[39m\u001b[38;5;124m\"\u001b[39m)\n\u001b[0;32m      9\u001b[0m \u001b[38;5;28;01mwith\u001b[39;00m torch\u001b[38;5;241m.\u001b[39mno_grad():  \u001b[38;5;66;03m# Ensure no gradients are calculated since this is evaluation.\u001b[39;00m\n\u001b[1;32m---> 10\u001b[0m     output \u001b[38;5;241m=\u001b[39m \u001b[43mmodel_imdb\u001b[49m\u001b[43m(\u001b[49m\u001b[43minputs\u001b[49m\u001b[43m)\u001b[49m\n\u001b[0;32m     11\u001b[0m     loss \u001b[38;5;241m=\u001b[39m loss_function(output, targets)\n\u001b[0;32m     12\u001b[0m     \u001b[38;5;28mprint\u001b[39m(\u001b[38;5;124mf\u001b[39m\u001b[38;5;124m'\u001b[39m\u001b[38;5;124mActual loss: \u001b[39m\u001b[38;5;132;01m{\u001b[39;00mloss\u001b[38;5;241m.\u001b[39mitem()\u001b[38;5;132;01m}\u001b[39;00m\u001b[38;5;124m'\u001b[39m)\n",
      "File \u001b[1;32mc:\\Users\\shaur\\anaconda3\\envs\\research_env\\lib\\site-packages\\torch\\nn\\modules\\module.py:1532\u001b[0m, in \u001b[0;36mModule._wrapped_call_impl\u001b[1;34m(self, *args, **kwargs)\u001b[0m\n\u001b[0;32m   1530\u001b[0m     \u001b[38;5;28;01mreturn\u001b[39;00m \u001b[38;5;28mself\u001b[39m\u001b[38;5;241m.\u001b[39m_compiled_call_impl(\u001b[38;5;241m*\u001b[39margs, \u001b[38;5;241m*\u001b[39m\u001b[38;5;241m*\u001b[39mkwargs)  \u001b[38;5;66;03m# type: ignore[misc]\u001b[39;00m\n\u001b[0;32m   1531\u001b[0m \u001b[38;5;28;01melse\u001b[39;00m:\n\u001b[1;32m-> 1532\u001b[0m     \u001b[38;5;28;01mreturn\u001b[39;00m \u001b[38;5;28mself\u001b[39m\u001b[38;5;241m.\u001b[39m_call_impl(\u001b[38;5;241m*\u001b[39margs, \u001b[38;5;241m*\u001b[39m\u001b[38;5;241m*\u001b[39mkwargs)\n",
      "File \u001b[1;32mc:\\Users\\shaur\\anaconda3\\envs\\research_env\\lib\\site-packages\\torch\\nn\\modules\\module.py:1541\u001b[0m, in \u001b[0;36mModule._call_impl\u001b[1;34m(self, *args, **kwargs)\u001b[0m\n\u001b[0;32m   1536\u001b[0m \u001b[38;5;66;03m# If we don't have any hooks, we want to skip the rest of the logic in\u001b[39;00m\n\u001b[0;32m   1537\u001b[0m \u001b[38;5;66;03m# this function, and just call forward.\u001b[39;00m\n\u001b[0;32m   1538\u001b[0m \u001b[38;5;28;01mif\u001b[39;00m \u001b[38;5;129;01mnot\u001b[39;00m (\u001b[38;5;28mself\u001b[39m\u001b[38;5;241m.\u001b[39m_backward_hooks \u001b[38;5;129;01mor\u001b[39;00m \u001b[38;5;28mself\u001b[39m\u001b[38;5;241m.\u001b[39m_backward_pre_hooks \u001b[38;5;129;01mor\u001b[39;00m \u001b[38;5;28mself\u001b[39m\u001b[38;5;241m.\u001b[39m_forward_hooks \u001b[38;5;129;01mor\u001b[39;00m \u001b[38;5;28mself\u001b[39m\u001b[38;5;241m.\u001b[39m_forward_pre_hooks\n\u001b[0;32m   1539\u001b[0m         \u001b[38;5;129;01mor\u001b[39;00m _global_backward_pre_hooks \u001b[38;5;129;01mor\u001b[39;00m _global_backward_hooks\n\u001b[0;32m   1540\u001b[0m         \u001b[38;5;129;01mor\u001b[39;00m _global_forward_hooks \u001b[38;5;129;01mor\u001b[39;00m _global_forward_pre_hooks):\n\u001b[1;32m-> 1541\u001b[0m     \u001b[38;5;28;01mreturn\u001b[39;00m forward_call(\u001b[38;5;241m*\u001b[39margs, \u001b[38;5;241m*\u001b[39m\u001b[38;5;241m*\u001b[39mkwargs)\n\u001b[0;32m   1543\u001b[0m \u001b[38;5;28;01mtry\u001b[39;00m:\n\u001b[0;32m   1544\u001b[0m     result \u001b[38;5;241m=\u001b[39m \u001b[38;5;28;01mNone\u001b[39;00m\n",
      "Cell \u001b[1;32mIn[22], line 30\u001b[0m, in \u001b[0;36mSimpleMLP.forward\u001b[1;34m(self, indices)\u001b[0m\n\u001b[0;32m     27\u001b[0m \u001b[38;5;28;01mdef\u001b[39;00m \u001b[38;5;21mforward\u001b[39m(\u001b[38;5;28mself\u001b[39m, indices):\n\u001b[0;32m     28\u001b[0m \n\u001b[0;32m     29\u001b[0m     \u001b[38;5;66;03m# Pass data through the embedding layer\u001b[39;00m\n\u001b[1;32m---> 30\u001b[0m     x \u001b[38;5;241m=\u001b[39m \u001b[38;5;28;43mself\u001b[39;49m\u001b[38;5;241;43m.\u001b[39;49m\u001b[43membedding\u001b[49m\u001b[43m(\u001b[49m\u001b[43mindices\u001b[49m\u001b[43m)\u001b[49m\n\u001b[0;32m     32\u001b[0m     \u001b[38;5;66;03m# First linear layer followed by ReLU, BatchNorm, and Dropout\u001b[39;00m\n\u001b[0;32m     33\u001b[0m     x \u001b[38;5;241m=\u001b[39m \u001b[38;5;28mself\u001b[39m\u001b[38;5;241m.\u001b[39mlinear1(x)\n",
      "File \u001b[1;32mc:\\Users\\shaur\\anaconda3\\envs\\research_env\\lib\\site-packages\\torch\\nn\\modules\\module.py:1532\u001b[0m, in \u001b[0;36mModule._wrapped_call_impl\u001b[1;34m(self, *args, **kwargs)\u001b[0m\n\u001b[0;32m   1530\u001b[0m     \u001b[38;5;28;01mreturn\u001b[39;00m \u001b[38;5;28mself\u001b[39m\u001b[38;5;241m.\u001b[39m_compiled_call_impl(\u001b[38;5;241m*\u001b[39margs, \u001b[38;5;241m*\u001b[39m\u001b[38;5;241m*\u001b[39mkwargs)  \u001b[38;5;66;03m# type: ignore[misc]\u001b[39;00m\n\u001b[0;32m   1531\u001b[0m \u001b[38;5;28;01melse\u001b[39;00m:\n\u001b[1;32m-> 1532\u001b[0m     \u001b[38;5;28;01mreturn\u001b[39;00m \u001b[38;5;28mself\u001b[39m\u001b[38;5;241m.\u001b[39m_call_impl(\u001b[38;5;241m*\u001b[39margs, \u001b[38;5;241m*\u001b[39m\u001b[38;5;241m*\u001b[39mkwargs)\n",
      "File \u001b[1;32mc:\\Users\\shaur\\anaconda3\\envs\\research_env\\lib\\site-packages\\torch\\nn\\modules\\module.py:1541\u001b[0m, in \u001b[0;36mModule._call_impl\u001b[1;34m(self, *args, **kwargs)\u001b[0m\n\u001b[0;32m   1536\u001b[0m \u001b[38;5;66;03m# If we don't have any hooks, we want to skip the rest of the logic in\u001b[39;00m\n\u001b[0;32m   1537\u001b[0m \u001b[38;5;66;03m# this function, and just call forward.\u001b[39;00m\n\u001b[0;32m   1538\u001b[0m \u001b[38;5;28;01mif\u001b[39;00m \u001b[38;5;129;01mnot\u001b[39;00m (\u001b[38;5;28mself\u001b[39m\u001b[38;5;241m.\u001b[39m_backward_hooks \u001b[38;5;129;01mor\u001b[39;00m \u001b[38;5;28mself\u001b[39m\u001b[38;5;241m.\u001b[39m_backward_pre_hooks \u001b[38;5;129;01mor\u001b[39;00m \u001b[38;5;28mself\u001b[39m\u001b[38;5;241m.\u001b[39m_forward_hooks \u001b[38;5;129;01mor\u001b[39;00m \u001b[38;5;28mself\u001b[39m\u001b[38;5;241m.\u001b[39m_forward_pre_hooks\n\u001b[0;32m   1539\u001b[0m         \u001b[38;5;129;01mor\u001b[39;00m _global_backward_pre_hooks \u001b[38;5;129;01mor\u001b[39;00m _global_backward_hooks\n\u001b[0;32m   1540\u001b[0m         \u001b[38;5;129;01mor\u001b[39;00m _global_forward_hooks \u001b[38;5;129;01mor\u001b[39;00m _global_forward_pre_hooks):\n\u001b[1;32m-> 1541\u001b[0m     \u001b[38;5;28;01mreturn\u001b[39;00m forward_call(\u001b[38;5;241m*\u001b[39margs, \u001b[38;5;241m*\u001b[39m\u001b[38;5;241m*\u001b[39mkwargs)\n\u001b[0;32m   1543\u001b[0m \u001b[38;5;28;01mtry\u001b[39;00m:\n\u001b[0;32m   1544\u001b[0m     result \u001b[38;5;241m=\u001b[39m \u001b[38;5;28;01mNone\u001b[39;00m\n",
      "File \u001b[1;32mc:\\Users\\shaur\\anaconda3\\envs\\research_env\\lib\\site-packages\\torch\\nn\\modules\\sparse.py:163\u001b[0m, in \u001b[0;36mEmbedding.forward\u001b[1;34m(self, input)\u001b[0m\n\u001b[0;32m    162\u001b[0m \u001b[38;5;28;01mdef\u001b[39;00m \u001b[38;5;21mforward\u001b[39m(\u001b[38;5;28mself\u001b[39m, \u001b[38;5;28minput\u001b[39m: Tensor) \u001b[38;5;241m-\u001b[39m\u001b[38;5;241m>\u001b[39m Tensor:\n\u001b[1;32m--> 163\u001b[0m     \u001b[38;5;28;01mreturn\u001b[39;00m \u001b[43mF\u001b[49m\u001b[38;5;241;43m.\u001b[39;49m\u001b[43membedding\u001b[49m\u001b[43m(\u001b[49m\n\u001b[0;32m    164\u001b[0m \u001b[43m        \u001b[49m\u001b[38;5;28;43minput\u001b[39;49m\u001b[43m,\u001b[49m\u001b[43m \u001b[49m\u001b[38;5;28;43mself\u001b[39;49m\u001b[38;5;241;43m.\u001b[39;49m\u001b[43mweight\u001b[49m\u001b[43m,\u001b[49m\u001b[43m \u001b[49m\u001b[38;5;28;43mself\u001b[39;49m\u001b[38;5;241;43m.\u001b[39;49m\u001b[43mpadding_idx\u001b[49m\u001b[43m,\u001b[49m\u001b[43m \u001b[49m\u001b[38;5;28;43mself\u001b[39;49m\u001b[38;5;241;43m.\u001b[39;49m\u001b[43mmax_norm\u001b[49m\u001b[43m,\u001b[49m\n\u001b[0;32m    165\u001b[0m \u001b[43m        \u001b[49m\u001b[38;5;28;43mself\u001b[39;49m\u001b[38;5;241;43m.\u001b[39;49m\u001b[43mnorm_type\u001b[49m\u001b[43m,\u001b[49m\u001b[43m \u001b[49m\u001b[38;5;28;43mself\u001b[39;49m\u001b[38;5;241;43m.\u001b[39;49m\u001b[43mscale_grad_by_freq\u001b[49m\u001b[43m,\u001b[49m\u001b[43m \u001b[49m\u001b[38;5;28;43mself\u001b[39;49m\u001b[38;5;241;43m.\u001b[39;49m\u001b[43msparse\u001b[49m\u001b[43m)\u001b[49m\n",
      "File \u001b[1;32mc:\\Users\\shaur\\anaconda3\\envs\\research_env\\lib\\site-packages\\torch\\nn\\functional.py:2264\u001b[0m, in \u001b[0;36membedding\u001b[1;34m(input, weight, padding_idx, max_norm, norm_type, scale_grad_by_freq, sparse)\u001b[0m\n\u001b[0;32m   2258\u001b[0m     \u001b[38;5;66;03m# Note [embedding_renorm set_grad_enabled]\u001b[39;00m\n\u001b[0;32m   2259\u001b[0m     \u001b[38;5;66;03m# XXX: equivalent to\u001b[39;00m\n\u001b[0;32m   2260\u001b[0m     \u001b[38;5;66;03m# with torch.no_grad():\u001b[39;00m\n\u001b[0;32m   2261\u001b[0m     \u001b[38;5;66;03m#   torch.embedding_renorm_\u001b[39;00m\n\u001b[0;32m   2262\u001b[0m     \u001b[38;5;66;03m# remove once script supports set_grad_enabled\u001b[39;00m\n\u001b[0;32m   2263\u001b[0m     _no_grad_embedding_renorm_(weight, \u001b[38;5;28minput\u001b[39m, max_norm, norm_type)\n\u001b[1;32m-> 2264\u001b[0m \u001b[38;5;28;01mreturn\u001b[39;00m \u001b[43mtorch\u001b[49m\u001b[38;5;241;43m.\u001b[39;49m\u001b[43membedding\u001b[49m\u001b[43m(\u001b[49m\u001b[43mweight\u001b[49m\u001b[43m,\u001b[49m\u001b[43m \u001b[49m\u001b[38;5;28;43minput\u001b[39;49m\u001b[43m,\u001b[49m\u001b[43m \u001b[49m\u001b[43mpadding_idx\u001b[49m\u001b[43m,\u001b[49m\u001b[43m \u001b[49m\u001b[43mscale_grad_by_freq\u001b[49m\u001b[43m,\u001b[49m\u001b[43m \u001b[49m\u001b[43msparse\u001b[49m\u001b[43m)\u001b[49m\n",
      "\u001b[1;31mTypeError\u001b[0m: embedding(): argument 'indices' (position 2) must be Tensor, not tuple"
     ]
    }
   ],
   "source": [
    "for inputs, targets in train_loader:\n",
    "    # Move inputs and targets to the CPU.\n",
    "    inputs = tuple(input_tensor.to(device) for input_tensor in inputs)\n",
    "    targets = targets.to(device)\n",
    "    model_imdb = model_brown.to(device)\n",
    "    model_imdb.eval()\n",
    "    # Forward pass\n",
    "    print(\"Im here\")\n",
    "    with torch.no_grad():  # Ensure no gradients are calculated since this is evaluation.\n",
    "        output = model_imdb(inputs)\n",
    "        loss = loss_function(output, targets)\n",
    "        print(f'Actual loss: {loss.item()}')\n",
    "    break\n",
    "\n",
    "print(f'Expected Theoretical loss: {np.log(2)}')\n"
   ]
  },
  {
   "cell_type": "code",
   "execution_count": null,
   "metadata": {},
   "outputs": [],
   "source": []
  }
 ],
 "metadata": {
  "kernelspec": {
   "display_name": "res_env",
   "language": "python",
   "name": "python3"
  },
  "language_info": {
   "codemirror_mode": {
    "name": "ipython",
    "version": 3
   },
   "file_extension": ".py",
   "mimetype": "text/x-python",
   "name": "python",
   "nbconvert_exporter": "python",
   "pygments_lexer": "ipython3",
   "version": "3.9.0"
  }
 },
 "nbformat": 4,
 "nbformat_minor": 2
}
